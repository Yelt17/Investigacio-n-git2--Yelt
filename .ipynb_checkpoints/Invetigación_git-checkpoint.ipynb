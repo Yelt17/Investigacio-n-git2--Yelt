{
 "cells": [
  {
   "cell_type": "markdown",
   "id": "de4e056f-e8bf-4d37-b1f7-665542a20d91",
   "metadata": {
    "tags": []
   },
   "source": [
    "Hola test"
   ]
  },
  {
   "cell_type": "code",
   "execution_count": null,
   "id": "49afa628-3182-40c9-9d91-f7361739075b",
   "metadata": {},
   "outputs": [],
   "source": [
    "."
   ]
  }
 ],
 "metadata": {
  "kernelspec": {
   "display_name": "Python 3 (ipykernel)",
   "language": "python",
   "name": "python3"
  },
  "language_info": {
   "codemirror_mode": {
    "name": "ipython",
    "version": 3
   },
   "file_extension": ".py",
   "mimetype": "text/x-python",
   "name": "python",
   "nbconvert_exporter": "python",
   "pygments_lexer": "ipython3",
   "version": "3.11.5"
  }
 },
 "nbformat": 4,
 "nbformat_minor": 5
}
