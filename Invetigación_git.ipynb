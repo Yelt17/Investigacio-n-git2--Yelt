{
 "cells": [
  {
   "cell_type": "markdown",
   "id": "de4e056f-e8bf-4d37-b1f7-665542a20d91",
   "metadata": {
    "tags": []
   },
   "source": [
    "# Investigación GitHub"
   ]
  },
  {
   "cell_type": "markdown",
   "id": "e3c93e63-c093-4165-a16f-bae78cf63eab",
   "metadata": {},
   "source": [
    "### Git:"
   ]
  },
  {
   "cell_type": "markdown",
   "id": "f2073014-a091-42a2-88e5-dee651d0ce6f",
   "metadata": {},
   "source": [
    "Git, un sistema de control de versiones distribuido, se emplea en el desarrollo de software para rastrear cambios en el código, permitiendo a los desarrolladores trabajar en ramas separadas, fusionar cambios eficientemente y colaborar de forma distribuida. Ofrece un historial detallado de modificaciones, facilitando la identificación de responsables, y posibilita trabajar con repositorios remotos para compartir y mantener actualizado el código. Su utilidad se extiende más allá del desarrollo de software, encontrando aplicación en contextos que requieren el control de versiones de archivos, como documentación técnica y configuración de sistemas."
   ]
  },
  {
   "cell_type": "code",
   "execution_count": null,
   "id": "00b6afbe-21af-45f6-b207-a85a8a65c8d0",
   "metadata": {},
   "outputs": [],
   "source": []
  }
 ],
 "metadata": {
  "kernelspec": {
   "display_name": "Python 3 (ipykernel)",
   "language": "python",
   "name": "python3"
  },
  "language_info": {
   "codemirror_mode": {
    "name": "ipython",
    "version": 3
   },
   "file_extension": ".py",
   "mimetype": "text/x-python",
   "name": "python",
   "nbconvert_exporter": "python",
   "pygments_lexer": "ipython3",
   "version": "3.11.5"
  }
 },
 "nbformat": 4,
 "nbformat_minor": 5
}
