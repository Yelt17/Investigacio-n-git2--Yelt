{
 "cells": [
  {
   "cell_type": "markdown",
   "id": "de4e056f-e8bf-4d37-b1f7-665542a20d91",
   "metadata": {
    "tags": []
   },
   "source": [
    "# Investigación Git"
   ]
  },
  {
   "cell_type": "markdown",
   "id": "e3c93e63-c093-4165-a16f-bae78cf63eab",
   "metadata": {},
   "source": [
    "### Git:"
   ]
  },
  {
   "cell_type": "markdown",
   "id": "f2073014-a091-42a2-88e5-dee651d0ce6f",
   "metadata": {},
   "source": [
    "Git, un sistema de control de versiones distribuido, se emplea en el desarrollo de software para rastrear cambios en el código, permitiendo a los desarrolladores trabajar en ramas separadas, fusionar cambios eficientemente y colaborar de forma distribuida. Ofrece un historial detallado de modificaciones, facilitando la identificación de responsables, y posibilita trabajar con repositorios remotos para compartir y mantener actualizado el código. Su utilidad se extiende más allá del desarrollo de software, encontrando aplicación en contextos que requieren el control de versiones de archivos, como documentación técnica y configuración de sistemas."
   ]
  },
  {
   "cell_type": "markdown",
   "id": "05f9371b-fed7-40b4-813b-27f8a10c0662",
   "metadata": {},
   "source": [
    "### Github"
   ]
  },
  {
   "cell_type": "markdown",
   "id": "e4016f9e-4f8f-4425-a1af-79eebff4b581",
   "metadata": {
    "tags": []
   },
   "source": [
    "GitHub es una plataforma en línea que utiliza Git para el control de versiones y facilita la colaboración en proyectos de desarrollo de software. Permite a los desarrolladores almacenar, gestionar y compartir sus repositorios de código de manera remota. GitHub ofrece funciones como seguimiento de problemas, solicitudes de extracción y revisión de código, lo que mejora la colaboración y la administración de proyectos. Además de su uso en desarrollo de software, GitHub también se utiliza para gestionar versiones de documentos y otros tipos de proyectos."
   ]
  },
  {
   "cell_type": "markdown",
   "id": "a11316e3-7734-4698-be47-3c3d8550a03a",
   "metadata": {
    "tags": []
   },
   "source": [
    "### Markdown y sus comando"
   ]
  },
  {
   "cell_type": "markdown",
   "id": "0ea05741-95fa-4b70-a7ed-bd926726624f",
   "metadata": {},
   "source": [
    "Markdown es un lenguaje de marcado ligero que facilita la creación de documentos formateados utilizando un formato de texto plano fácil de leer y escribir. Se usa comunmente en HTML."
   ]
  },
  {
   "cell_type": "markdown",
   "id": "0f42aa04-44cd-46d5-b2b1-a1fe0551ba3b",
   "metadata": {},
   "source": [
    "Encabezados:\n",
    "\n",
    "    #: Define encabezados. Cuanto más #, menor es el nivel del encabezado.\n",
    "\n",
    "Listas:\n",
    "\n",
    "    * o -: Crea elementos en una lista no ordenada.\n",
    "\n",
    "    1., 2., etc.: Genera elementos en una lista ordenada.\n",
    "\n",
    "Énfasis:\n",
    "\n",
    "    *texto* o _texto_: Coloca el texto entre asteriscos o guiones bajos para cursiva.\n",
    "    **texto** o __texto__: Rodea el texto con dos asteriscos o guiones bajos para negrita.\n",
    "Enlaces:\n",
    "\n",
    "    [texto](URL): Crea un enlace donde \"texto\" es el texto visible y \"URL\" es la dirección web.\n",
    "\n",
    "Imágenes:\n",
    "\n",
    "    ![texto alternativo](URL de la imagen): Inserta una imagen con un texto alternativo.\n",
    "    \n",
    "Bloques de código:\n",
    "\n",
    "    Indentación con cuatro espacios o triple comilla invertida (```): Define bloques de código.\n",
    "\n",
    "Citas:\n",
    "\n",
    "    >: Utilizado para crear bloques de citas.\n",
    "    Línea horizontal:\n",
    "\n",
    "    --- o ***: Agrega una línea horizontal para separar secciones."
   ]
  },
  {
   "cell_type": "markdown",
   "id": "cabc4287-0f4d-40a2-89de-21a01b0e3614",
   "metadata": {},
   "source": [
    "### MagicCells"
   ]
  },
  {
   "cell_type": "markdown",
   "id": "804d6759-7a0a-4ecb-a473-0237d9044ae5",
   "metadata": {},
   "source": [
    "Se utilizan en Jupyter NoteBook y son instrucciones especiales que posibilitan a los usuarios ajustar el comportamiento de una celda de código. \n",
    "Estas funciones tienen la capacidad de medir el tiempo de ejecución de toda la celda. Identificadas por el doble prefijo %% , estas operan en varias líneas de código y deben abarcar toda la extensión de la celda, permitiendo comandos que se extiendan por varias líneas. Importante notar que estas funciones solo pueden ser utilizadas como la primera línea en una celda y, en términos generales, no pueden ser \"apiladas\". Algunas de ellas, debido a sus características particulares, pueden ser apiladas, aunque esto se descubre según el caso."
   ]
  },
  {
   "cell_type": "code",
   "execution_count": null,
   "id": "519c9ac0-b881-4ce3-8ace-7954e2c0b5e6",
   "metadata": {},
   "outputs": [],
   "source": []
  }
 ],
 "metadata": {
  "kernelspec": {
   "display_name": "Python 3 (ipykernel)",
   "language": "python",
   "name": "python3"
  },
  "language_info": {
   "codemirror_mode": {
    "name": "ipython",
    "version": 3
   },
   "file_extension": ".py",
   "mimetype": "text/x-python",
   "name": "python",
   "nbconvert_exporter": "python",
   "pygments_lexer": "ipython3",
   "version": "3.11.5"
  }
 },
 "nbformat": 4,
 "nbformat_minor": 5
}
